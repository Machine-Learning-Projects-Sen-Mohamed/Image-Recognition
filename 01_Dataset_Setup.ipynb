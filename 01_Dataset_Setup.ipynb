{
  "nbformat": 4,
  "nbformat_minor": 0,
  "metadata": {
    "colab": {
      "provenance": [],
      "machine_shape": "hm",
      "include_colab_link": true
    },
    "kernelspec": {
      "name": "python3",
      "display_name": "Python 3"
    },
    "language_info": {
      "name": "python"
    },
    "gpuClass": "standard"
  },
  "cells": [
    {
      "cell_type": "markdown",
      "metadata": {
        "id": "view-in-github",
        "colab_type": "text"
      },
      "source": [
        "<a href=\"https://colab.research.google.com/github/Machine-Learning-Projects-Sen-Mohamed/Image-Recognition/blob/main/01_Dataset_Setup.ipynb\" target=\"_parent\"><img src=\"https://colab.research.google.com/assets/colab-badge.svg\" alt=\"Open In Colab\"/></a>"
      ]
    },
    {
      "cell_type": "code",
      "execution_count": null,
      "metadata": {
        "colab": {
          "base_uri": "https://localhost:8080/"
        },
        "id": "JDLgNiy_hgL4",
        "outputId": "7c26fb8c-6a6b-49b5-eca8-61f9594ff3b9"
      },
      "outputs": [
        {
          "output_type": "stream",
          "name": "stdout",
          "text": [
            "Hello_World\n"
          ]
        }
      ],
      "source": [
        "print('Hello_World')"
      ]
    },
    {
      "cell_type": "code",
      "source": [
        "print('Test')"
      ],
      "metadata": {
        "id": "dnZF8wGlhz4Y",
        "outputId": "24ab3c0d-07f6-4bb1-8bd7-301de5186fa3",
        "colab": {
          "base_uri": "https://localhost:8080/"
        }
      },
      "execution_count": null,
      "outputs": [
        {
          "output_type": "stream",
          "name": "stdout",
          "text": [
            "Test\n"
          ]
        }
      ]
    },
    {
      "cell_type": "code",
      "source": [
        "print('Test_file')\n",
        "print('Test_Unit_1')\n",
        "print('Test_Unit_2')"
      ],
      "metadata": {
        "colab": {
          "base_uri": "https://localhost:8080/"
        },
        "id": "TQW8rYnKij4h",
        "outputId": "856ab93e-3035-4308-c9f0-28c0d11fe3fe"
      },
      "execution_count": null,
      "outputs": [
        {
          "output_type": "stream",
          "name": "stdout",
          "text": [
            "Test_file\n",
            "Test_Unit_1\n",
            "Test_Unit_2\n"
          ]
        }
      ]
    },
    {
      "cell_type": "code",
      "source": [
        "print('Testing_1_2_3')\n",
        "print('Test_2')\n"
      ],
      "metadata": {
        "colab": {
          "base_uri": "https://localhost:8080/"
        },
        "id": "uNuhWUq4jC83",
        "outputId": "ff08313f-d3f0-4e97-d1f8-d54e5a62e011"
      },
      "execution_count": null,
      "outputs": [
        {
          "output_type": "stream",
          "name": "stdout",
          "text": [
            "Testing_1_2_3\n",
            "Test_2\n"
          ]
        }
      ]
    }
  ]
}